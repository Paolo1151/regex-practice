{
 "cells": [
  {
   "cell_type": "code",
   "execution_count": 17,
   "metadata": {},
   "outputs": [],
   "source": [
    "import re"
   ]
  },
  {
   "cell_type": "markdown",
   "metadata": {},
   "source": [
    "# Developing Intuition in Regex"
   ]
  },
  {
   "cell_type": "markdown",
   "metadata": {},
   "source": [
    "----\n",
    "# TASK: (EASY)\n",
    "\n",
    "# Decode the Message by Cleaning up the Message"
   ]
  },
  {
   "cell_type": "code",
   "execution_count": 13,
   "metadata": {},
   "outputs": [
    {
     "data": {
      "text/plain": [
       "'Data For Good'"
      ]
     },
     "execution_count": 13,
     "metadata": {},
     "output_type": "execute_result"
    }
   ],
   "source": [
    "text = '''D!@#($*!@&#()$&*a!*@#$&)!@#&t2(!*@#$(34908120389490(!@##$()&!@)&*!*!a 19238479099#!**F!$(#*!**??@?@??';';[123o!@#($2324*!@#(124$12431*r ()!@#$+G12!@#$!3o(!@#$*)066!*#$&78712!(@#$!@)$(*34o2345123123132d21312'''\n",
    "\n"
   ]
  },
  {
   "cell_type": "markdown",
   "metadata": {},
   "source": [
    "# TASK: (EASY)\n",
    "\n",
    "# Get the Filenames of the PDF"
   ]
  },
  {
   "cell_type": "code",
   "execution_count": 43,
   "metadata": {},
   "outputs": [
    {
     "data": {
      "text/plain": [
       "['Physics']"
      ]
     },
     "execution_count": 43,
     "metadata": {},
     "output_type": "execute_result"
    }
   ],
   "source": [
    "text = \"Physics.pdf\"\n",
    "\n"
   ]
  },
  {
   "cell_type": "markdown",
   "metadata": {},
   "source": [
    "# TASK: (EASY)\n",
    "\n",
    "# Extract the Phone Number"
   ]
  },
  {
   "cell_type": "code",
   "execution_count": 49,
   "metadata": {},
   "outputs": [
    {
     "data": {
      "text/plain": [
       "['0929-182-9029', '0912-172-1271']"
      ]
     },
     "execution_count": 49,
     "metadata": {},
     "output_type": "execute_result"
    }
   ],
   "source": [
    "text = \"My Phone Number is 0929-182-9029. Her Phone Number is 0912-172-1271.\" # NOTE: NOT MINE\n",
    "\n"
   ]
  },
  {
   "cell_type": "markdown",
   "metadata": {},
   "source": [
    "# TASK: (EASY)\n",
    "\n",
    "# Making a Dialogue"
   ]
  },
  {
   "cell_type": "code",
   "execution_count": 56,
   "metadata": {},
   "outputs": [
    {
     "name": "stdout",
     "output_type": "stream",
     "text": [
      "\n",
      "Gerald: Hi! My Name is Gerald. I like to play basketball and to eat Burgers\n",
      "\n",
      "Michael: Hi! My Name is Michael. I hope you can forgive me for being shy, but my favorite place is Norway.\n",
      "\n",
      "Gerald: I'd like to go to Norway. Would you mind if I join? Maybe we can also play basketball together.\n",
      "\n",
      "Michael: Sure! I'd also want to taste Burgers while doing that.\n",
      "\n"
     ]
    }
   ],
   "source": [
    "text = r\"\"\"\n",
    "{Character 1}: Hi! My Name is {Character 1}. I like to {favorite hobby} and to eat {favorite food}\n",
    "\n",
    "{Character 2}: Hi! My Name is {Character 2}. I hope you can forgive me for being shy, but my favorite place is {favorite place}.\n",
    "\n",
    "{Character 1}: I'd like to go to {favorite place}. Would you mind if I join? Maybe we can also {favorite hobby} together.\n",
    "\n",
    "{Character 2}: Sure! I'd also want to taste {favorite food} while doing that.\n",
    "\"\"\"\n"
   ]
  },
  {
   "cell_type": "markdown",
   "metadata": {},
   "source": [
    "# TASK: (MEDIUM)\n",
    "\n",
    "# Get all the Planet Names "
   ]
  },
  {
   "cell_type": "code",
   "execution_count": 14,
   "metadata": {},
   "outputs": [
    {
     "data": {
      "text/plain": [
       "['Mercury', 'Venus', 'Earth', 'Mars', 'Jupiter', 'Saturn', 'Uranus', 'Neptune']"
      ]
     },
     "execution_count": 14,
     "metadata": {},
     "output_type": "execute_result"
    }
   ],
   "source": [
    "text = '''\n",
    "Planets in our Solar System is amazing. First we have Planet Mercury which is the closest to the sun which has its atmosphere evaporated for being so close to it. Next, \n",
    "we have Planet Venus, which was noted to have an atmosphere, but it was destroyed sometime. Next, we have our own Planet Earth, which is the only habitable one in our solar system.\n",
    "Next, Planet Mars is something that we want to be able to colonize some day. Next, is Planet Jupiter which is the largest in our solar system. Next, is Planet Saturn which is the one\n",
    "with the amazing rings. Next, is Planet Uranus which is known to be the tilted one. Lastly, we have Planet Neptune which shows an amazing blue. Planets are amazing aren't they?\n",
    "'''\n"
   ]
  },
  {
   "cell_type": "markdown",
   "metadata": {},
   "source": [
    "# TASK: (MEDIUM)\n",
    "\n",
    "# Extract All of the Currency Values within the Article Below:"
   ]
  },
  {
   "cell_type": "code",
   "execution_count": 6,
   "metadata": {},
   "outputs": [
    {
     "data": {
      "text/plain": [
       "['$1,658',\n",
       " '$132',\n",
       " '$1,790',\n",
       " '$1,933',\n",
       " '$23,196',\n",
       " '$170',\n",
       " '$148',\n",
       " '$21',\n",
       " '$132',\n",
       " '$578',\n",
       " '$5']"
      ]
     },
     "execution_count": 6,
     "metadata": {},
     "output_type": "execute_result"
    }
   ],
   "source": [
    "text = r'''\n",
    "Analysis by the Social Security Administration, as reported by Stephen Goss, the chief actuary of the SSA, shows that Social Security Benefits could increase as much as 8% for 2023. This is based on how the cost of living adjustment (COLA) is calculated for SSA benefits. The index, the “Consumer Price Index for Urban Wage Earners and Clerical Workers” or CPI-W, differs from the general CPI because it includes only expenditures by hourly wage earners or those in clerical jobs. For last year, 2022, that led to an increase in SSA benefits of 5.9%, raising the average monthly benefit of $1,658 by over $132. An increase of 8% from the now national average of $1,790 would raise the average to $1,933 or $23,196 per year.\n",
    "\n",
    "Take note that this is an early estimate and that the final numbers will not be released until October and will take effect in January, 2023. But even if inflation eases the rest of the year, and that’s a big if, the benefit is still likely to be significantly higher than this year.\n",
    "\n",
    "What Does The SSA Increase Mean for Me?\n",
    "\n",
    "It means a lot! But before we all jump for joy, we need to keep our eyes on two important factors:\n",
    "\n",
    "How much the Medicare Part B premium increases, and\n",
    "How much inflation will actually affect our ability to buy what we need and want.\n",
    "For 2022, the payments for Medicare Part B went up a whopping 14.5%, up to $170.10 (from $148.50 the year before). Although the SSA benefit went up, $21 of the $132 increase was lost to the Medicare payment. Also, for higher income folks, the premium was much, much higher, going up to as much as $578 per month. There’s no word yet about how much the Medicare Part B payment will rise for 2023, but you can bet it will match or better last year’s increase. Healthcare costs certainly have not leveled off. So before you go out and spend that 8% Social Security raise, you’d be wise to wait to find out just how much you take in from it, after higher Medicare premiums are deducted.\n",
    "\n",
    "As for inflation, it’s obvious that it’s taking a toll. Gas prices are now over $5 nationally, and higher in many places. If you’re driving as much as you have been, you’re already feeling the pinch. If you’re a renter, you might also consider just how much your rent might increase. In my area, Palm Beach County, Florida, and in many similar locales, some rents are increasing 30 or 40%! Your 8% raise in SSA benefits could be dwarfed by a rent increase.\n",
    "'''\n",
    "\n"
   ]
  },
  {
   "cell_type": "markdown",
   "metadata": {},
   "source": [
    "# TASK: (HARD)\n",
    "\n",
    "# Extract All Equations From The Sentence"
   ]
  },
  {
   "cell_type": "code",
   "execution_count": 4,
   "metadata": {},
   "outputs": [
    {
     "data": {
      "text/plain": [
       "[('300 - 250 = ?', '-', ''),\n",
       " ('50 * 92 = ?', '*', ''),\n",
       " ('1 + 1 = ?', '+', ''),\n",
       " ('f(x) = x + 12', '', '+'),\n",
       " ('f(x) = 10x + 15', '', '+')]"
      ]
     },
     "execution_count": 4,
     "metadata": {},
     "output_type": "execute_result"
    }
   ],
   "source": [
    "text = '''\n",
    "Mathematics is an amazing thing. Before, They used to only contain simple digits such as 0 to 9 when selling things for their wares. Equations are the fundamental building block of \n",
    "Mathematics and everything can be modelled as an equation in order to analyze the mathematical expression. For example, we can represent value of the change for a customer\n",
    "paying $300 for a $250 rug as 300 - 250 = ?. In another, we can also use it for simple things like inventory. Suppose we count all of the inventories we have in the store left smartly, we can\n",
    "get an equation like: 50 * 92 = ?. Even the simplest equations can be useful for mathematicians such as 1 + 1 = ? to analytze how it would be useful. Other than arithmetic, we can also define equations\n",
    "in terms of a function f. Suppose get the variable x, and we define f(x) = x + 12. This is especially useful for lines. An example of a line equation is f(x) = 10x + 15. Isn't math amazing?\n",
    "'''\n",
    "\n"
   ]
  },
  {
   "cell_type": "markdown",
   "metadata": {},
   "source": [
    "----"
   ]
  },
  {
   "cell_type": "markdown",
   "metadata": {},
   "source": [
    "----\n",
    "# Useful Regex Tips"
   ]
  },
  {
   "cell_type": "markdown",
   "metadata": {},
   "source": [
    "Collect a Group of Characters\n",
    "## .* and .+?\n",
    "\n",
    ".* - Greedy (Get as many characters)\n",
    "\n",
    ".+? - Non-Greedy (Get only as small to fit the constraint)"
   ]
  },
  {
   "cell_type": "code",
   "execution_count": 44,
   "metadata": {},
   "outputs": [
    {
     "data": {
      "text/plain": [
       "['my.own.email']"
      ]
     },
     "execution_count": 44,
     "metadata": {},
     "output_type": "execute_result"
    }
   ],
   "source": [
    "text = \"my.own.email@gmail.com\"\n",
    "\n",
    "re.findall('(.*)@', text)"
   ]
  },
  {
   "cell_type": "code",
   "execution_count": 47,
   "metadata": {},
   "outputs": [
    {
     "data": {
      "text/plain": [
       "['is patient',\n",
       " 'does not insist on its own way',\n",
       " 'is not irritable or resentful',\n",
       " 'does not rejoice in wrongdoing, but rejoices in the truth',\n",
       " 'bears all things',\n",
       " 'believes all things',\n",
       " 'hopes all things',\n",
       " 'endures all things',\n",
       " 'never ends']"
      ]
     },
     "execution_count": 47,
     "metadata": {},
     "output_type": "execute_result"
    }
   ],
   "source": [
    "text = '''\n",
    "Love is patient; love is kind; love is not envious or boastful or arrogant or rude; Love does not insist on its own way; \n",
    "Love is not irritable or resentful; Love does not rejoice in wrongdoing, but rejoices in the truth; Love bears all things; \n",
    "Love believes all things; Love hopes all things; Love endures all things; Love never ends;\n",
    "'''\n",
    "\n",
    "re.findall('Love (.+?);', text)"
   ]
  },
  {
   "cell_type": "markdown",
   "metadata": {},
   "source": [
    "Grouping is a magical ability\n",
    "\n",
    "## ()\n",
    "\n",
    "You can use grouping to only get a certain part of the Match that you got"
   ]
  },
  {
   "cell_type": "code",
   "execution_count": 81,
   "metadata": {},
   "outputs": [
    {
     "data": {
      "text/plain": [
       "['Bob', 'Carol', 'Matthew', 'Joseph', 'Starla']"
      ]
     },
     "execution_count": 81,
     "metadata": {},
     "output_type": "execute_result"
    }
   ],
   "source": [
    "text = \"\"\"\n",
    "Alice and Bob were friends\n",
    "Alice and Carol were friends\n",
    "Alice and Matthew were friends\n",
    "Alice and Jerald were enemies\n",
    "Alice and Joseph were friends\n",
    "Alice and Starla were friends\n",
    "Alice and Chesire were enemies\n",
    "\"\"\"\n",
    "\n",
    "re.findall(r'Alice and (.+?) were friends', text)"
   ]
  },
  {
   "cell_type": "code",
   "execution_count": 76,
   "metadata": {},
   "outputs": [
    {
     "data": {
      "text/plain": [
       "['9 + 12']"
      ]
     },
     "execution_count": 76,
     "metadata": {},
     "output_type": "execute_result"
    }
   ],
   "source": [
    "text = \"\"\"\n",
    "<html>\n",
    "    <code>9 + 12</code>\n",
    "</html>\n",
    "\"\"\"\n",
    "re.findall(r'<code>(.*)</code>', text)"
   ]
  },
  {
   "cell_type": "code",
   "execution_count": 79,
   "metadata": {},
   "outputs": [
    {
     "data": {
      "text/plain": [
       "21"
      ]
     },
     "execution_count": 79,
     "metadata": {},
     "output_type": "execute_result"
    }
   ],
   "source": [
    "# Optional: Just a python magic trick hehehe\n",
    "eval(re.findall(r'<code>(.*)</code>', text)[0])"
   ]
  },
  {
   "cell_type": "markdown",
   "metadata": {},
   "source": [
    "----\n",
    "# Some Additional Resources. More Practice!"
   ]
  },
  {
   "cell_type": "markdown",
   "metadata": {},
   "source": [
    "https://regexone.com/"
   ]
  },
  {
   "cell_type": "markdown",
   "metadata": {},
   "source": []
  }
 ],
 "metadata": {
  "kernelspec": {
   "display_name": "Python 3.9.12 ('dsenv')",
   "language": "python",
   "name": "python3"
  },
  "language_info": {
   "codemirror_mode": {
    "name": "ipython",
    "version": 3
   },
   "file_extension": ".py",
   "mimetype": "text/x-python",
   "name": "python",
   "nbconvert_exporter": "python",
   "pygments_lexer": "ipython3",
   "version": "3.9.12"
  },
  "orig_nbformat": 4,
  "vscode": {
   "interpreter": {
    "hash": "57f33db8188eeca27b98325a77446146cbda6fa03e4a40235f67738ff9616fe2"
   }
  }
 },
 "nbformat": 4,
 "nbformat_minor": 2
}
